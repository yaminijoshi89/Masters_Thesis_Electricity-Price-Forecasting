{
  "cells": [
    {
      "cell_type": "markdown",
      "metadata": {
        "id": "LHsC6WV4NSbZ"
      },
      "source": [
        "# **Data Extraction from ENTSOE**\n",
        "\n",
        "---\n",
        "# methods that return Pandas Series\n",
        "client.query_day_ahead_prices(country_code, start=start, end=end)\n",
        "client.query_net_position(country_code, start=start, end=end, dayahead=True)\n",
        "client.query_crossborder_flows(country_code_from, country_code_to, start=start, end=end)\n",
        "client.query_scheduled_exchanges(country_code_from, country_code_to, start=start, end=end, dayahead=False)\n",
        "client.query_net_transfer_capacity_dayahead(country_code_from, country_code_to, start=start, end=end)\n",
        "client.query_net_transfer_capacity_weekahead(country_code_from, country_code_to, start=start, end=end)\n",
        "client.query_net_transfer_capacity_monthahead(country_code_from, country_code_to, start=start, end=end)\n",
        "client.query_net_transfer_capacity_yearahead(country_code_from, country_code_to, start=start, end=end)\n",
        "client.query_intraday_offered_capacity(country_code_from, country_code_to, start=start, end=end, implicit=True)\n",
        "client.query_offered_capacity(country_code_from, country_code_to, contract_marketagreement_type, start=start, end=end, implicit=True)\n",
        "client.query_aggregate_water_reservoirs_and_hydro_storage(country_code, start=start, end=end)\n",
        "\n",
        "# methods that return Pandas DataFrames\n",
        "client.query_load(country_code, start=start, end=end)\n",
        "client.query_load_forecast(country_code, start=start, end=end)\n",
        "client.query_load_and_forecast(country_code, start=start, end=end)\n",
        "client.query_generation_forecast(country_code, start=start, end=end)\n",
        "client.query_wind_and_solar_forecast(country_code, start=start, end=end, psr_type=None)\n",
        "client.query_intraday_wind_and_solar_forecast(country_code, start=start, end=end, psr_type=None)\n",
        "client.query_generation(country_code, start=start, end=end, psr_type=None)\n",
        "client.query_generation_per_plant(country_code, start=start, end=end, psr_type=None, include_eic=False)\n",
        "client.query_installed_generation_capacity(country_code, start=start, end=end, psr_type=None)\n",
        "client.query_installed_generation_capacity_per_unit(country_code, start=start, end=end, psr_type=None)\n",
        "client.query_imbalance_prices(country_code, start=start, end=end, psr_type=None)\n",
        "client.query_contracted_reserve_prices(country_code, type_marketagreement_type, start=start, end=end, psr_type=None)\n",
        "client.query_contracted_reserve_amount(country_code, type_marketagreement_type, start=start, end=end, psr_type=None)\n",
        "client.query_unavailability_of_generation_units(country_code, start=start, end=end, docstatus=None, periodstartupdate=None, periodendupdate=None)\n",
        "client.query_unavailability_of_production_units(country_code, start, end, docstatus=None, periodstartupdate=None, periodendupdate=None)\n",
        "client.query_unavailability_transmission(country_code_from, country_code_to, start=start, end=end, docstatus=None, periodstartupdate=None, periodendupdate=None)\n",
        "client.query_withdrawn_unavailability_of_generation_units(country_code, start, end)\n",
        "client.query_physical_crossborder_allborders(country_code, start, end, export=True)\n",
        "client.query_generation_import(country_code, start, end)\n",
        "client.query_procured_balancing_capacity(country_code, process_type, start=start, end=end, type_marketagreement_type=None)\n",
        "\n",
        "Mappings : https://github.com/EnergieID/entsoe-py/blob/master/entsoe/mappings.py\n"
      ]
    },
    {
      "cell_type": "code",
      "execution_count": 3,
      "metadata": {
        "colab": {
          "base_uri": "https://localhost:8080/"
        },
        "id": "eXf6LVO-O-5S",
        "outputId": "3e58512c-23f9-4d04-b90a-ab381139269b"
      },
      "outputs": [
        {
          "name": "stdout",
          "output_type": "stream",
          "text": [
            "Collecting entsoe-py\n",
            "  Downloading entsoe_py-0.6.18-py3-none-any.whl.metadata (10 kB)\n",
            "Requirement already satisfied: requests in /usr/local/lib/python3.11/dist-packages (from entsoe-py) (2.32.3)\n",
            "Requirement already satisfied: pytz in /usr/local/lib/python3.11/dist-packages (from entsoe-py) (2025.1)\n",
            "Requirement already satisfied: beautifulsoup4>=4.11.1 in /usr/local/lib/python3.11/dist-packages (from entsoe-py) (4.13.3)\n",
            "Requirement already satisfied: pandas>=2.2.0 in /usr/local/lib/python3.11/dist-packages (from entsoe-py) (2.2.2)\n",
            "Requirement already satisfied: soupsieve>1.2 in /usr/local/lib/python3.11/dist-packages (from beautifulsoup4>=4.11.1->entsoe-py) (2.6)\n",
            "Requirement already satisfied: typing-extensions>=4.0.0 in /usr/local/lib/python3.11/dist-packages (from beautifulsoup4>=4.11.1->entsoe-py) (4.12.2)\n",
            "Requirement already satisfied: numpy>=1.23.2 in /usr/local/lib/python3.11/dist-packages (from pandas>=2.2.0->entsoe-py) (1.26.4)\n",
            "Requirement already satisfied: python-dateutil>=2.8.2 in /usr/local/lib/python3.11/dist-packages (from pandas>=2.2.0->entsoe-py) (2.8.2)\n",
            "Requirement already satisfied: tzdata>=2022.7 in /usr/local/lib/python3.11/dist-packages (from pandas>=2.2.0->entsoe-py) (2025.1)\n",
            "Requirement already satisfied: charset-normalizer<4,>=2 in /usr/local/lib/python3.11/dist-packages (from requests->entsoe-py) (3.4.1)\n",
            "Requirement already satisfied: idna<4,>=2.5 in /usr/local/lib/python3.11/dist-packages (from requests->entsoe-py) (3.10)\n",
            "Requirement already satisfied: urllib3<3,>=1.21.1 in /usr/local/lib/python3.11/dist-packages (from requests->entsoe-py) (2.3.0)\n",
            "Requirement already satisfied: certifi>=2017.4.17 in /usr/local/lib/python3.11/dist-packages (from requests->entsoe-py) (2025.1.31)\n",
            "Requirement already satisfied: six>=1.5 in /usr/local/lib/python3.11/dist-packages (from python-dateutil>=2.8.2->pandas>=2.2.0->entsoe-py) (1.17.0)\n",
            "Downloading entsoe_py-0.6.18-py3-none-any.whl (1.6 MB)\n",
            "\u001b[2K   \u001b[90m━━━━━━━━━━━━━━━━━━━━━━━━━━━━━━━━━━━━━━━━\u001b[0m \u001b[32m1.6/1.6 MB\u001b[0m \u001b[31m23.6 MB/s\u001b[0m eta \u001b[36m0:00:00\u001b[0m\n",
            "\u001b[?25hInstalling collected packages: entsoe-py\n",
            "Successfully installed entsoe-py-0.6.18\n"
          ]
        }
      ],
      "source": [
        "!pip install entsoe-py\n",
        "#!pip install dwdweather2\n",
        "!pip install wetterdienst"
      ]
    },
    {
      "cell_type": "code",
      "execution_count": 4,
      "metadata": {
        "id": "llzvqLWt0Yeq"
      },
      "outputs": [],
      "source": [
        "from entsoe import EntsoeRawClient,EntsoePandasClient\n",
        "import pandas as pd\n",
        "client_pd = EntsoePandasClient(api_key='9a9df453-dc5d-40a7-8400-1c2f6bd53d9b')\n",
        "start_ds1 = pd.Timestamp('20230101', tz='Europe/Berlin')\n",
        "start_ds2 = pd.Timestamp('20200101', tz='Europe/Berlin')\n",
        "end = pd.Timestamp('20240101', tz='Europe/Berlin')\n",
        "country_code = \"DE\"\n",
        "country_bidding_zone = \"DE_LU\""
      ]
    },
    {
      "cell_type": "markdown",
      "metadata": {
        "id": "IUyFwEmxNSYy"
      },
      "source": [
        "**Day-ahead prices**"
      ]
    },
    {
      "cell_type": "code",
      "execution_count": 5,
      "metadata": {
        "id": "Jz9UQIvx0bpi"
      },
      "outputs": [],
      "source": [
        "day_ahead_prices_ds2 = client_pd.query_day_ahead_prices(country_bidding_zone, start=start_ds2, end=end)\n",
        "day_ahead_prices_ds1 = client_pd.query_day_ahead_prices(country_bidding_zone, start=start_ds1, end=end)"
      ]
    },
    {
      "cell_type": "markdown",
      "metadata": {
        "id": "56MG5JoEOliP"
      },
      "source": [
        "**Load**"
      ]
    },
    {
      "cell_type": "code",
      "execution_count": null,
      "metadata": {
        "id": "Q_yaT8x2OZ6I"
      },
      "outputs": [],
      "source": [
        "df_load_ds2 = client_pd.query_load(country_code, start=start_ds2, end=end)\n",
        "df_load_ds1 = client_pd.query_load(country_code, start=start_ds1, end=end)\n"
      ]
    },
    {
      "cell_type": "markdown",
      "metadata": {
        "id": "R4472yYHOwXl"
      },
      "source": [
        "**Generation**"
      ]
    },
    {
      "cell_type": "code",
      "execution_count": 6,
      "metadata": {
        "id": "BqDvbCMUOyYQ"
      },
      "outputs": [],
      "source": [
        "day_generation_ds2 = client_pd.query_generation(country_bidding_zone, start=start_ds2, end=end)\n",
        "day_generation_ds1 = client_pd.query_generation(country_bidding_zone, start=start_ds1, end=end)"
      ]
    },
    {
      "cell_type": "markdown",
      "metadata": {
        "id": "f7Uqhg4xRNzZ"
      },
      "source": [
        "# **Weather Data**\n",
        "\n",
        "---\n",
        "\n",
        "https://github.com/earthobservations/wetterdienst/blob/main/examples/notebooks/wetterdienst_notebook.ipynb"
      ]
    },
    {
      "cell_type": "markdown",
      "metadata": {
        "id": "mJ1PFmO3RZYc"
      },
      "source": [
        "**Cloud Cover**"
      ]
    },
    {
      "cell_type": "code",
      "execution_count": null,
      "metadata": {
        "id": "5uG6GiFSSfnH"
      },
      "outputs": [],
      "source": [
        "from wetterdienst.provider.dwd.observation import (\n",
        "    DwdObservationDataset,\n",
        "    DwdObservationParameter,\n",
        "    DwdObservationPeriod,\n",
        "    DwdObservationRequest,\n",
        "    DwdObservationResolution)"
      ]
    },
    {
      "cell_type": "code",
      "execution_count": null,
      "metadata": {
        "id": "1WR0t8HuUUxs"
      },
      "outputs": [],
      "source": [
        "import polars as pl\n",
        "_ = pl.Config.set_tbl_hide_dataframe_shape(True)\n",
        "from wetterdienst import Settings\n",
        "from wetterdienst.provider.dwd.observation import DwdObservationRequest\n",
        "settings = Settings( # default\n",
        "     ts_shape=\"long\",  # tidy data\n",
        "     ts_humanize=True,  # humanized parameters\n",
        "     ts_si_units=True  # convert values to SI units\n",
        " )\n",
        "request_cs = DwdObservationRequest(\n",
        "    parameter=\"climate_summary\",\n",
        "    resolution=\"daily\",\n",
        "    start_date=\"2020-01-01\",  # if not given timezone defaulted to UTC\n",
        "    end_date=\"2024-10-01\",  # if not given timezone defaulted to UTC\n",
        "    settings=settings\n",
        " )#.filter_by_station_id(station_id=(1048, 4411))"
      ]
    },
    {
      "cell_type": "code",
      "execution_count": null,
      "metadata": {
        "id": "1MXwVLFKO79N"
      },
      "outputs": [],
      "source": [
        "request_cloud= DwdObservationRequest(\n",
        "    parameter=DwdObservationDataset.CLOUDINESS,\n",
        "    resolution=DwdObservationResolution.HOURLY,\n",
        "    start_date=\"2020-01-01\",  # if not given timezone defaulted to UTC\n",
        "    end_date=\"2020-12-31\",\n",
        ").all()\n",
        "request_cloud_2020 = request_cloud.values.all()"
      ]
    },
    {
      "cell_type": "markdown",
      "metadata": {
        "id": "GedvtSILRb5t"
      },
      "source": [
        "**Sun Availability**"
      ]
    },
    {
      "cell_type": "code",
      "execution_count": null,
      "metadata": {
        "id": "Yvw9gAIMRcWI"
      },
      "outputs": [],
      "source": [
        "from wetterdienst.provider.dwd.observation import (\n",
        "    DwdObservationDataset,\n",
        "    DwdObservationParameter,\n",
        "    DwdObservationPeriod,\n",
        "    DwdObservationRequest,\n",
        "    DwdObservationResolution)\n",
        "print(DwdObservationRequest.discover(resolution=DwdObservationResolution.HOURLY))\n",
        "print(DwdObservationRequest.discover(resolution=DwdObservationResolution.DAILY))\n",
        "print(DwdObservationRequest.discover())\n",
        "#Extracted year by year due to size\n",
        "request = DwdObservationRequest(\n",
        "    parameter=DwdObservationDataset.SOLAR,\n",
        "    resolution=DwdObservationResolution.HOURLY,\n",
        "    start_date=\"2020-01-01\",  # if not given timezone defaulted to UTC\n",
        "    end_date=\"2020-12-31\",\n",
        ").all()\n",
        "request_solar_2020 = request.values.all()\n",
        "request_solar_2020 = request_solar_2020.df.to_pandas()\n",
        "sunshine_duration_data = request_solar_2020[request_solar_2020[\"parameter\"] == \"sunshine_duration\"]\n"
      ]
    },
    {
      "cell_type": "markdown",
      "metadata": {
        "id": "NphxgIwGRuA9"
      },
      "source": [
        "**Humidity**"
      ]
    },
    {
      "cell_type": "code",
      "execution_count": null,
      "metadata": {
        "id": "QPp4PpRkRuMe"
      },
      "outputs": [],
      "source": [
        "request = DwdObservationRequest(\n",
        "    parameter=DwdObservationDataset.TEMPERATURE_AIR,\n",
        "    resolution=DwdObservationResolution.HOURLY,\n",
        "    start_date=\"2021-01-01\",  # if not given timezone defaulted to UTC\n",
        "    end_date=\"2021-12-31\",\n",
        ").all()\n",
        "request_temp_2021 = request.values.all()\n",
        "request_temp_2021 = request_temp_2021.df.to_pandas()\n",
        "request_temp_2021 = request_temp_2021[request_temp_2021['parameter']=='humidity']\n",
        "request_humidity_2021_df = pd.merge(weather_stations, request_temp_2021, on='station_id', how='inner')\n",
        "request_humidity_2021_df = request_humidity_2021_df[['state', 'date','value']]\n",
        "request_humidity_2021_df.rename(columns={'value': 'humidity'}, inplace=True)"
      ]
    },
    {
      "cell_type": "code",
      "execution_count": null,
      "metadata": {
        "id": "j-sqTmGPXHS8"
      },
      "outputs": [],
      "source": [
        "parameters = [\n",
        "    DwdObservationParameter.DAILY.TEMPERATURE_AIR_MEAN_2M,\n",
        "    DwdObservationParameter.DAILY.TEMPERATURE_AIR_MAX_2M,\n",
        "    DwdObservationParameter.DAILY.TEMPERATURE_AIR_MIN_2M,\n",
        "    DwdObservationParameter.DAILY.PRECIPITATION_HEIGHT,\n",
        "]\n",
        "values_par = (\n",
        "    DwdObservationRequest(\n",
        "        parameter=parameters,\n",
        "        resolution=DwdObservationResolution.DAILY,\n",
        "        period=DwdObservationPeriod.HISTORICAL,\n",
        "    )\n",
        "    .filter_by_station_id(station_id=(1048,))\n",
        "    .values.all()\n",
        ")\n",
        "values_par.df.drop_nulls().head()"
      ]
    },
    {
      "cell_type": "code",
      "execution_count": null,
      "metadata": {
        "id": "omMwyLr5YbEe"
      },
      "outputs": [],
      "source": [
        "weather_stations = pd.read_csv(\"/content/drive/MyDrive/Master Thesis/Script/Datasets/stations.csv\", dtype={'station_id': str}, parse_dates=True)\n",
        "weather_stations.drop(columns=[\"Unnamed: 0\"],inplace=True)\n",
        "len(weather_stations.station_id.unique())"
      ]
    },
    {
      "cell_type": "markdown",
      "metadata": {
        "id": "QNrQpWYvSIXY"
      },
      "source": [
        "There are 1257 weather stations, selected stations : 'Baden-Württemberg', 'Nordrhein-Westfalen', 'Niedersachsen',\n",
        "       'Schleswig-Holstein', 'Bayern', 'Hessen', 'Brandenburg',\n",
        "       'Thüringen', 'Mecklenburg-Vorpommern', 'Sachsen',\n",
        "       'Rheinland-Pfalz', 'Sachsen-Anhalt', 'Berlin', 'Saarland',\n",
        "       'Bremen', 'Hamburg'"
      ]
    },
    {
      "cell_type": "code",
      "execution_count": null,
      "metadata": {
        "id": "I2hgwlwTSI0h"
      },
      "outputs": [],
      "source": [
        "request_wind_2024['wind_direction'] = request_wind_2024.loc[request_wind_2024[\"parameter\"] == \"wind_direction\"]['value'] #3881123\n",
        "request_wind_2024['wind_speed'] = request_wind_2024.loc[request_wind_2024[\"parameter\"]  == \"wind_speed\"]['value']"
      ]
    }
  ],
  "metadata": {
    "colab": {
      "provenance": []
    },
    "kernelspec": {
      "display_name": "Python 3",
      "name": "python3"
    },
    "language_info": {
      "name": "python"
    }
  },
  "nbformat": 4,
  "nbformat_minor": 0
}
